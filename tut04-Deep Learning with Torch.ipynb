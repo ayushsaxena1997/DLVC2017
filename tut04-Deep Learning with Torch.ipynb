{
 "cells": [
  {
   "cell_type": "markdown",
   "metadata": {},
   "source": [
    "# Deep Learning with Torch\n",
    "\n",
    "Ref: \n",
    "\n",
    "What is Torch?\n",
    "\n",
    "Torch is a scientific computing framework based on Lua[JIT] with strong CPU and CUDA backends.\n",
    "\n",
    "Strong points of Torch:\n",
    "\n",
    "    Efficient Tensor library (like NumPy) with an efficient CUDA backend\n",
    "    Neural Networks package -- build arbitrary acyclic computation graphs with automatic differentiation\n",
    "        also with fast CUDA and CPU backends\n",
    "    Good community and industry support - several hundred community-built and maintained packages.\n",
    "    Easy to use Multi-GPU support and parallelizing neural networks\n",
    "\n",
    "http://torch.ch\n",
    "https://github.com/torch/torch7/wiki/Cheatsheet\n",
    "\n",
    "### Strings, numbers, tables - a tiny introduction"
   ]
  },
  {
   "cell_type": "code",
   "execution_count": null,
   "metadata": {
    "collapsed": true
   },
   "outputs": [],
   "source": [
    "a = 'hello'\n",
    "print(a)"
   ]
  },
  {
   "cell_type": "code",
   "execution_count": null,
   "metadata": {
    "collapsed": true
   },
   "outputs": [],
   "source": []
  }
 ],
 "metadata": {
  "kernelspec": {
   "display_name": "iTorch",
   "language": "lua",
   "name": "itorch"
  }
 },
 "nbformat": 4,
 "nbformat_minor": 0
}
